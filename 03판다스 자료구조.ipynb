{
 "cells": [
  {
   "cell_type": "code",
   "execution_count": 10,
   "id": "a2d1ae51-2521-4ab5-8976-51126c356b2a",
   "metadata": {},
   "outputs": [],
   "source": [
    "import pandas as pd "
   ]
  },
  {
   "cell_type": "code",
   "execution_count": 12,
   "id": "6b4372c2-b461-4f98-b9ce-08b317ffcbb2",
   "metadata": {},
   "outputs": [
    {
     "name": "stdout",
     "output_type": "stream",
     "text": [
      "0    banana\n",
      "1        42\n",
      "dtype: object\n"
     ]
    }
   ],
   "source": [
    "df=pd.Series(['banana',42])\n",
    "print(df)"
   ]
  },
  {
   "cell_type": "code",
   "execution_count": 14,
   "id": "fe54f10a-97cd-48b9-aec9-a4c06d22f116",
   "metadata": {},
   "outputs": [
    {
     "name": "stdout",
     "output_type": "stream",
     "text": [
      "person         wes Mckinney\n",
      "who       creator of pandas\n",
      "dtype: object\n"
     ]
    }
   ],
   "source": [
    "df=pd.Series(data=['wes Mckinney', 'creator of pandas'],index=['person','who'])\n",
    "print(df)"
   ]
  },
  {
   "cell_type": "code",
   "execution_count": 18,
   "id": "a2a6f34c-5bb5-4062-ad4a-95c42e4fe837",
   "metadata": {},
   "outputs": [
    {
     "name": "stdout",
     "output_type": "stream",
     "text": [
      "                Name    occupation       Born        Died  Age\n",
      "0  Rosaline Franklin       chemist  1920-0725  1958-04-16   37\n",
      "1     william Gosset  statistician  1876-0613  1937-10-16   61\n"
     ]
    }
   ],
   "source": [
    "scientists=pd.DataFrame({\n",
    "    \"Name\":[\"Rosaline Franklin\", \"william Gosset\"],\n",
    "    \"occupation\":[\"chemist\", \"statistician\"],\n",
    "    \"Born\":[\"1920-0725\", \"1876-0613\"],\n",
    "    \"Died\":[\"1958-04-16\", \"1937-10-16\"],\n",
    "    \"Age\":[37,61],\n",
    "})\n",
    "print(scientists)"
   ]
  },
  {
   "cell_type": "code",
   "execution_count": 46,
   "id": "bb952529-d93b-4f01-be45-67581b1f142b",
   "metadata": {},
   "outputs": [
    {
     "name": "stdout",
     "output_type": "stream",
     "text": [
      "                     occupation        born        Died  Age\n",
      "Rosaline Franklin       chemist  1920-07-25  1958-04-16   37\n",
      "William Gosset     statistician  1876-06-13  1937-10-16   61\n"
     ]
    }
   ],
   "source": [
    "scientists=pd.DataFrame(\n",
    "    data={\n",
    "    \"occupation\":[\"chemist\", \"statistician\"],\n",
    "    \"born\":[\"1920-07-25\", \"1876-06-13\"],\n",
    "    \"Died\":[\"1958-04-16\", \"1937-10-16\"],\n",
    "    \"Age\":[37,61],\n",
    "},\n",
    "index=[\"Rosaline Franklin\", \"William Gosset\"],\n",
    "columns=[\"occupation\", \"born\",\"Died\",\"Age\"],\n",
    ")\n",
    "print(scientists)"
   ]
  },
  {
   "cell_type": "code",
   "execution_count": 48,
   "id": "7bdda8bd-8e2e-42ac-b3b6-87d12af91152",
   "metadata": {},
   "outputs": [
    {
     "name": "stdout",
     "output_type": "stream",
     "text": [
      "<class 'pandas.core.series.Series'>\n"
     ]
    }
   ],
   "source": [
    "first_row=scientists.loc['William Gosset']\n",
    "print(type(first_row))"
   ]
  },
  {
   "cell_type": "code",
   "execution_count": 50,
   "id": "a4be3996-a359-4291-862c-cba1c6082ed0",
   "metadata": {},
   "outputs": [
    {
     "name": "stdout",
     "output_type": "stream",
     "text": [
      "Index(['occupation', 'born', 'Died', 'Age'], dtype='object')\n"
     ]
    }
   ],
   "source": [
    "print(first_row.index)"
   ]
  },
  {
   "cell_type": "code",
   "execution_count": 52,
   "id": "a230c6f8-a0aa-4db5-bd2d-71a7ec803c90",
   "metadata": {},
   "outputs": [
    {
     "name": "stdout",
     "output_type": "stream",
     "text": [
      "['statistician' '1876-06-13' '1937-10-16' 61]\n"
     ]
    }
   ],
   "source": [
    "print(first_row.values) "
   ]
  },
  {
   "cell_type": "code",
   "execution_count": 43,
   "id": "8f510888-2bde-4d66-85a7-8b9c41f6bb66",
   "metadata": {},
   "outputs": [
    {
     "data": {
      "text/plain": [
       "array([ 8.18264433e-02, -2.69523979e+01,  2.27665029e+03])"
      ]
     },
     "execution_count": 43,
     "metadata": {},
     "output_type": "execute_result"
    }
   ],
   "source": [
    "# loc 열이름으로 데이터추출 \n",
    "# iloc 열위치로 데이터추출\n",
    "# dtype dtypes 시리즈에 저장된값의 자료형\n",
    "# T 시리즈의 전치\n",
    "# shape 데이터의차원\n",
    "# size 시리즈의 요소의 개수\n",
    "# values 시리즈의 ndarray 또는 ndarray 와 같은형태"
   ]
  },
  {
   "cell_type": "code",
   "execution_count": 54,
   "id": "818c1e52-2e51-4241-8620-0f407d7fbb11",
   "metadata": {},
   "outputs": [
    {
     "name": "stdout",
     "output_type": "stream",
     "text": [
      "Index(['occupation', 'born', 'Died', 'Age'], dtype='object')\n"
     ]
    }
   ],
   "source": [
    "print(first_row.keys())"
   ]
  },
  {
   "cell_type": "code",
   "execution_count": 56,
   "id": "b16fd4fe-5519-46d5-ad66-e71fa7ab944d",
   "metadata": {},
   "outputs": [
    {
     "name": "stdout",
     "output_type": "stream",
     "text": [
      "occupation\n"
     ]
    }
   ],
   "source": [
    "print(first_row.index[0])"
   ]
  },
  {
   "cell_type": "code",
   "execution_count": 58,
   "id": "219d34ed-d5c9-4d5b-9252-5eb17230fec7",
   "metadata": {},
   "outputs": [
    {
     "name": "stdout",
     "output_type": "stream",
     "text": [
      "Rosaline Franklin    37\n",
      "William Gosset       61\n",
      "Name: Age, dtype: int64\n"
     ]
    }
   ],
   "source": [
    "ages=scientists['Age']\n",
    "print(ages)"
   ]
  },
  {
   "cell_type": "code",
   "execution_count": 62,
   "id": "62719477-29de-4c53-a614-833e59450e56",
   "metadata": {},
   "outputs": [
    {
     "name": "stdout",
     "output_type": "stream",
     "text": [
      "49.0\n"
     ]
    }
   ],
   "source": [
    "print (ages.mean()) # 평균 "
   ]
  },
  {
   "cell_type": "code",
   "execution_count": 64,
   "id": "d4b66000-7093-4459-a647-a65c3a3f7c33",
   "metadata": {},
   "outputs": [
    {
     "name": "stdout",
     "output_type": "stream",
     "text": [
      "37\n"
     ]
    }
   ],
   "source": [
    "print (ages.min()) # 최솟값"
   ]
  },
  {
   "cell_type": "code",
   "execution_count": 66,
   "id": "262ed9ee-1b08-4183-a4e3-96e68b477885",
   "metadata": {},
   "outputs": [
    {
     "name": "stdout",
     "output_type": "stream",
     "text": [
      "61\n"
     ]
    }
   ],
   "source": [
    "print (ages.max()) # 최댓값"
   ]
  },
  {
   "cell_type": "code",
   "execution_count": 68,
   "id": "0364734b-ae8b-4900-9a07-6a616b5e24e6",
   "metadata": {},
   "outputs": [
    {
     "name": "stdout",
     "output_type": "stream",
     "text": [
      "16.97056274847714\n"
     ]
    }
   ],
   "source": [
    "print (ages.std()) # 표준편차"
   ]
  },
  {
   "cell_type": "code",
   "execution_count": null,
   "id": "0499b127-05cc-43d7-8850-8eef3e93803f",
   "metadata": {},
   "outputs": [],
   "source": [
    "'''\n",
    "append() 2개이상의 시리즈연결\n",
    "corr() 다른시리즈와의 상관관계 계산 (결측값은 자동으로 제외)\n",
    "cov() 다른시리즈와의 공분산 계산\n",
    "describe() 요약통계량 계산 (결측값은 자동으로 제외)\n",
    "drop_duplicates() 중복값이 없는 시리즈 반환\n",
    "equls() 시리즈에 주어진값을 가진요소가 있는지 확인\n",
    "get_values() 시리즈 값구하기(values 속성과 동일)\n",
    "hist() 히스토그램구하기\n",
    "isin() 주어진값이 시리즈에포함되어있는지 확인\n",
    "min() 최솟값확인 \n",
    "max() 최댓값확인\n",
    "mean() 산술평균확인\n",
    "median() 중앙값확인\n",
    "mode() 최빈값\n",
    "quantile() 사분위수로 반환\n",
    "replace() 시리즈의 특정값반환\n",
    "sample() 시리즈의 임의의값\n",
    "sort_values() 값정렬\n",
    "to_frame() 시리즈를 데이터 프레임으로 변환\n",
    "transpose() 시리즈의 전치반환\n",
    "unique() 고윳값으로 이루어진 numpy.ndarray를 반환\n",
    "'''"
   ]
  },
  {
   "cell_type": "code",
   "execution_count": 72,
   "id": "594c20b4-5b09-407f-9260-fed83ef56115",
   "metadata": {},
   "outputs": [
    {
     "data": {
      "text/html": [
       "<div>\n",
       "<style scoped>\n",
       "    .dataframe tbody tr th:only-of-type {\n",
       "        vertical-align: middle;\n",
       "    }\n",
       "\n",
       "    .dataframe tbody tr th {\n",
       "        vertical-align: top;\n",
       "    }\n",
       "\n",
       "    .dataframe thead th {\n",
       "        text-align: right;\n",
       "    }\n",
       "</style>\n",
       "<table border=\"1\" class=\"dataframe\">\n",
       "  <thead>\n",
       "    <tr style=\"text-align: right;\">\n",
       "      <th></th>\n",
       "      <th>Name</th>\n",
       "      <th>Born</th>\n",
       "      <th>Died</th>\n",
       "      <th>Age</th>\n",
       "      <th>Occupation</th>\n",
       "    </tr>\n",
       "  </thead>\n",
       "  <tbody>\n",
       "    <tr>\n",
       "      <th>0</th>\n",
       "      <td>Rosaline Franklin</td>\n",
       "      <td>1920-07-25</td>\n",
       "      <td>1958-04-16</td>\n",
       "      <td>37</td>\n",
       "      <td>Chemist</td>\n",
       "    </tr>\n",
       "    <tr>\n",
       "      <th>1</th>\n",
       "      <td>William Gosset</td>\n",
       "      <td>1876-06-13</td>\n",
       "      <td>1937-10-16</td>\n",
       "      <td>61</td>\n",
       "      <td>Statistician</td>\n",
       "    </tr>\n",
       "    <tr>\n",
       "      <th>2</th>\n",
       "      <td>Florence Nightingale</td>\n",
       "      <td>1820-05-12</td>\n",
       "      <td>1910-08-13</td>\n",
       "      <td>90</td>\n",
       "      <td>Nurse</td>\n",
       "    </tr>\n",
       "    <tr>\n",
       "      <th>3</th>\n",
       "      <td>Marie Curie</td>\n",
       "      <td>1867-11-07</td>\n",
       "      <td>1934-07-04</td>\n",
       "      <td>66</td>\n",
       "      <td>Chemist</td>\n",
       "    </tr>\n",
       "    <tr>\n",
       "      <th>4</th>\n",
       "      <td>Rachel Carson</td>\n",
       "      <td>1907-05-27</td>\n",
       "      <td>1964-04-14</td>\n",
       "      <td>56</td>\n",
       "      <td>Biologist</td>\n",
       "    </tr>\n",
       "    <tr>\n",
       "      <th>5</th>\n",
       "      <td>John Snow</td>\n",
       "      <td>1813-03-15</td>\n",
       "      <td>1858-06-16</td>\n",
       "      <td>45</td>\n",
       "      <td>Physician</td>\n",
       "    </tr>\n",
       "    <tr>\n",
       "      <th>6</th>\n",
       "      <td>Alan Turing</td>\n",
       "      <td>1912-06-23</td>\n",
       "      <td>1954-06-07</td>\n",
       "      <td>41</td>\n",
       "      <td>Computer Scientist</td>\n",
       "    </tr>\n",
       "    <tr>\n",
       "      <th>7</th>\n",
       "      <td>Johann Gauss</td>\n",
       "      <td>1777-04-30</td>\n",
       "      <td>1855-02-23</td>\n",
       "      <td>77</td>\n",
       "      <td>Mathematician</td>\n",
       "    </tr>\n",
       "  </tbody>\n",
       "</table>\n",
       "</div>"
      ],
      "text/plain": [
       "                   Name        Born        Died  Age          Occupation\n",
       "0     Rosaline Franklin  1920-07-25  1958-04-16   37             Chemist\n",
       "1        William Gosset  1876-06-13  1937-10-16   61        Statistician\n",
       "2  Florence Nightingale  1820-05-12  1910-08-13   90               Nurse\n",
       "3           Marie Curie  1867-11-07  1934-07-04   66             Chemist\n",
       "4         Rachel Carson  1907-05-27  1964-04-14   56           Biologist\n",
       "5             John Snow  1813-03-15  1858-06-16   45           Physician\n",
       "6           Alan Turing  1912-06-23  1954-06-07   41  Computer Scientist\n",
       "7          Johann Gauss  1777-04-30  1855-02-23   77       Mathematician"
      ]
     },
     "execution_count": 72,
     "metadata": {},
     "output_type": "execute_result"
    }
   ],
   "source": [
    "scientists=pd.read_csv(\"scientists.csv\")\n",
    "scientists"
   ]
  },
  {
   "cell_type": "code",
   "execution_count": 74,
   "id": "08693484-f0e7-488d-b8ba-36f32b834367",
   "metadata": {},
   "outputs": [
    {
     "data": {
      "text/plain": [
       "0    37\n",
       "1    61\n",
       "2    90\n",
       "3    66\n",
       "4    56\n",
       "5    45\n",
       "6    41\n",
       "7    77\n",
       "Name: Age, dtype: int64"
      ]
     },
     "execution_count": 74,
     "metadata": {},
     "output_type": "execute_result"
    }
   ],
   "source": [
    "ages=scientists['Age']\n",
    "ages"
   ]
  },
  {
   "cell_type": "code",
   "execution_count": 76,
   "id": "dd76389a-b8fd-4bbd-abaf-c8b27099be4e",
   "metadata": {},
   "outputs": [
    {
     "name": "stdout",
     "output_type": "stream",
     "text": [
      "count     8.000000\n",
      "mean     59.125000\n",
      "std      18.325918\n",
      "min      37.000000\n",
      "25%      44.000000\n",
      "50%      58.500000\n",
      "75%      68.750000\n",
      "max      90.000000\n",
      "Name: Age, dtype: float64\n"
     ]
    }
   ],
   "source": [
    "print(ages.describe())"
   ]
  },
  {
   "cell_type": "code",
   "execution_count": 78,
   "id": "06edabdf-6681-430d-8787-89d67261a438",
   "metadata": {},
   "outputs": [
    {
     "name": "stdout",
     "output_type": "stream",
     "text": [
      "59.125\n"
     ]
    }
   ],
   "source": [
    "print(ages.mean())"
   ]
  },
  {
   "cell_type": "code",
   "execution_count": 82,
   "id": "5a5fe5e8-c53b-4116-9528-5cbf3b4abdbe",
   "metadata": {},
   "outputs": [
    {
     "name": "stdout",
     "output_type": "stream",
     "text": [
      "1    61\n",
      "2    90\n",
      "3    66\n",
      "7    77\n",
      "Name: Age, dtype: int64\n"
     ]
    }
   ],
   "source": [
    "print(ages[ages>ages.mean()])"
   ]
  },
  {
   "cell_type": "code",
   "execution_count": 84,
   "id": "69ccaa49-a892-48af-9ba1-6bb8d1e3158f",
   "metadata": {},
   "outputs": [
    {
     "name": "stdout",
     "output_type": "stream",
     "text": [
      "0    False\n",
      "1     True\n",
      "2     True\n",
      "3     True\n",
      "4    False\n",
      "5    False\n",
      "6    False\n",
      "7     True\n",
      "Name: Age, dtype: bool\n"
     ]
    }
   ],
   "source": [
    "print(ages>ages.mean())"
   ]
  },
  {
   "cell_type": "code",
   "execution_count": 86,
   "id": "af940039-2b93-4a97-87ac-f1c6e9cc0d21",
   "metadata": {},
   "outputs": [
    {
     "name": "stdout",
     "output_type": "stream",
     "text": [
      "<class 'pandas.core.series.Series'>\n"
     ]
    }
   ],
   "source": [
    "print(type(ages>ages.mean()))"
   ]
  },
  {
   "cell_type": "code",
   "execution_count": 90,
   "id": "2cea5d45-b0ea-4340-9642-bd17a6253c7d",
   "metadata": {},
   "outputs": [
    {
     "name": "stdout",
     "output_type": "stream",
     "text": [
      "0    37\n",
      "1    61\n",
      "4    56\n",
      "5    45\n",
      "7    77\n",
      "Name: Age, dtype: int64\n"
     ]
    }
   ],
   "source": [
    "manual_bool_values=[\n",
    "    True,\n",
    "    True,\n",
    "    False,\n",
    "    False,\n",
    "    True,\n",
    "    True,\n",
    "    False,\n",
    "    True,\n",
    "]\n",
    "print(ages[manual_bool_values])"
   ]
  },
  {
   "cell_type": "code",
   "execution_count": 92,
   "id": "bb0d9401-cc40-4bed-9c38-1eb5afca29e1",
   "metadata": {},
   "outputs": [
    {
     "name": "stdout",
     "output_type": "stream",
     "text": [
      "0     74\n",
      "1    122\n",
      "2    180\n",
      "3    132\n",
      "4    112\n",
      "5     90\n",
      "6     82\n",
      "7    154\n",
      "Name: Age, dtype: int64\n"
     ]
    }
   ],
   "source": [
    "print(ages+ages)"
   ]
  },
  {
   "cell_type": "code",
   "execution_count": 94,
   "id": "9402ef2b-ded3-47ad-a495-019985fbd64a",
   "metadata": {},
   "outputs": [
    {
     "name": "stdout",
     "output_type": "stream",
     "text": [
      "0    1369\n",
      "1    3721\n",
      "2    8100\n",
      "3    4356\n",
      "4    3136\n",
      "5    2025\n",
      "6    1681\n",
      "7    5929\n",
      "Name: Age, dtype: int64\n"
     ]
    }
   ],
   "source": [
    "print(ages*ages)"
   ]
  },
  {
   "cell_type": "code",
   "execution_count": 96,
   "id": "f24958c8-d9bd-447b-b4b6-bfce4c356c4a",
   "metadata": {},
   "outputs": [
    {
     "name": "stdout",
     "output_type": "stream",
     "text": [
      "0    137\n",
      "1    161\n",
      "2    190\n",
      "3    166\n",
      "4    156\n",
      "5    145\n",
      "6    141\n",
      "7    177\n",
      "Name: Age, dtype: int64\n"
     ]
    }
   ],
   "source": [
    "print(ages+100)"
   ]
  },
  {
   "cell_type": "code",
   "execution_count": 98,
   "id": "87fcced9-32d3-4a61-9017-b89f7e2a67ff",
   "metadata": {},
   "outputs": [
    {
     "name": "stdout",
     "output_type": "stream",
     "text": [
      "0     74\n",
      "1    122\n",
      "2    180\n",
      "3    132\n",
      "4    112\n",
      "5     90\n",
      "6     82\n",
      "7    154\n",
      "Name: Age, dtype: int64\n"
     ]
    }
   ],
   "source": [
    "print(ages*2)"
   ]
  },
  {
   "cell_type": "code",
   "execution_count": 102,
   "id": "b52ac3be-b833-4117-9469-3b4875d3a646",
   "metadata": {},
   "outputs": [
    {
     "name": "stdout",
     "output_type": "stream",
     "text": [
      "0     38.0\n",
      "1    161.0\n",
      "2      NaN\n",
      "3      NaN\n",
      "4      NaN\n",
      "5      NaN\n",
      "6      NaN\n",
      "7      NaN\n",
      "dtype: float64\n"
     ]
    }
   ],
   "source": [
    "print(ages+pd.Series([1,100]))"
   ]
  },
  {
   "cell_type": "code",
   "execution_count": 104,
   "id": "640543f2-356a-4cc5-b8f7-34318ef18cf3",
   "metadata": {},
   "outputs": [
    {
     "data": {
      "text/plain": [
       "0    37\n",
       "1    61\n",
       "2    90\n",
       "3    66\n",
       "4    56\n",
       "5    45\n",
       "6    41\n",
       "7    77\n",
       "Name: Age, dtype: int64"
      ]
     },
     "execution_count": 104,
     "metadata": {},
     "output_type": "execute_result"
    }
   ],
   "source": [
    "ages"
   ]
  },
  {
   "cell_type": "code",
   "execution_count": 106,
   "id": "48539c17-6235-4542-865d-aed2e9a2236d",
   "metadata": {},
   "outputs": [
    {
     "name": "stdout",
     "output_type": "stream",
     "text": [
      "7    77\n",
      "6    41\n",
      "5    45\n",
      "4    56\n",
      "3    66\n",
      "2    90\n",
      "1    61\n",
      "0    37\n",
      "Name: Age, dtype: int64\n"
     ]
    }
   ],
   "source": [
    "rev_ages=ages.sort_index(ascending=False)\n",
    "print(rev_ages)"
   ]
  },
  {
   "cell_type": "code",
   "execution_count": 109,
   "id": "42769c1d-c8c5-4c04-bcdb-4d9397a93d23",
   "metadata": {},
   "outputs": [
    {
     "name": "stdout",
     "output_type": "stream",
     "text": [
      "0     74\n",
      "1    122\n",
      "2    180\n",
      "3    132\n",
      "4    112\n",
      "5     90\n",
      "6     82\n",
      "7    154\n",
      "Name: Age, dtype: int64\n"
     ]
    }
   ],
   "source": [
    "print(ages*2)"
   ]
  },
  {
   "cell_type": "code",
   "execution_count": 111,
   "id": "50360ccc-04d9-4411-b1ae-3bb2e8767940",
   "metadata": {},
   "outputs": [
    {
     "name": "stdout",
     "output_type": "stream",
     "text": [
      "0     74\n",
      "1    122\n",
      "2    180\n",
      "3    132\n",
      "4    112\n",
      "5     90\n",
      "6     82\n",
      "7    154\n",
      "Name: Age, dtype: int64\n"
     ]
    }
   ],
   "source": [
    "print(ages+rev_ages)"
   ]
  },
  {
   "cell_type": "code",
   "execution_count": 113,
   "id": "b522919b-5435-484e-ab0b-9f1bd7780c54",
   "metadata": {},
   "outputs": [
    {
     "data": {
      "text/plain": [
       "RangeIndex(start=0, stop=8, step=1)"
      ]
     },
     "execution_count": 113,
     "metadata": {},
     "output_type": "execute_result"
    }
   ],
   "source": [
    "scientists.index"
   ]
  },
  {
   "cell_type": "code",
   "execution_count": 115,
   "id": "d8a2ea62-76f5-4023-a113-9262e6d3fd1f",
   "metadata": {},
   "outputs": [
    {
     "data": {
      "text/plain": [
       "Index(['Name', 'Born', 'Died', 'Age', 'Occupation'], dtype='object')"
      ]
     },
     "execution_count": 115,
     "metadata": {},
     "output_type": "execute_result"
    }
   ],
   "source": [
    "scientists.columns"
   ]
  },
  {
   "cell_type": "code",
   "execution_count": 117,
   "id": "b27b9b55-003e-4961-90ef-2081dce3e634",
   "metadata": {},
   "outputs": [
    {
     "data": {
      "text/plain": [
       "array([['Rosaline Franklin', '1920-07-25', '1958-04-16', 37, 'Chemist'],\n",
       "       ['William Gosset', '1876-06-13', '1937-10-16', 61, 'Statistician'],\n",
       "       ['Florence Nightingale', '1820-05-12', '1910-08-13', 90, 'Nurse'],\n",
       "       ['Marie Curie', '1867-11-07', '1934-07-04', 66, 'Chemist'],\n",
       "       ['Rachel Carson', '1907-05-27', '1964-04-14', 56, 'Biologist'],\n",
       "       ['John Snow', '1813-03-15', '1858-06-16', 45, 'Physician'],\n",
       "       ['Alan Turing', '1912-06-23', '1954-06-07', 41,\n",
       "        'Computer Scientist'],\n",
       "       ['Johann Gauss', '1777-04-30', '1855-02-23', 77, 'Mathematician']],\n",
       "      dtype=object)"
      ]
     },
     "execution_count": 117,
     "metadata": {},
     "output_type": "execute_result"
    }
   ],
   "source": [
    "scientists.values"
   ]
  },
  {
   "cell_type": "code",
   "execution_count": 119,
   "id": "dd5516b1-dbd2-4eec-9acb-3095cd1a0ba2",
   "metadata": {},
   "outputs": [
    {
     "name": "stdout",
     "output_type": "stream",
     "text": [
      "                   Name        Born        Died  Age     Occupation\n",
      "1        William Gosset  1876-06-13  1937-10-16   61   Statistician\n",
      "2  Florence Nightingale  1820-05-12  1910-08-13   90          Nurse\n",
      "3           Marie Curie  1867-11-07  1934-07-04   66        Chemist\n",
      "7          Johann Gauss  1777-04-30  1855-02-23   77  Mathematician\n"
     ]
    }
   ],
   "source": [
    "print(scientists.loc[scientists['Age']>scientists['Age'].mean()])"
   ]
  },
  {
   "cell_type": "code",
   "execution_count": null,
   "id": "2b494ecd-34f9-4276-8fb9-3555ce62dbb2",
   "metadata": {},
   "outputs": [],
   "source": [
    "'''\n",
    "df[column_name] 시리즈\n",
    "df[[column1,column2,...]] 데이터프레임\n",
    "df.loc[row_label] 행이름으로 추출한 행데이터\n",
    "df.loc[[label1,label2,....]] 행이름으로 추출한 여러행 데이터\n",
    "df.iloc[row_number] 행번호로 추출한 여러행 데이터\n",
    "df[bool] 불리언으로 추출한 행데이터\n",
    "df[[bool1,bool2,...]] 불리언으로 추출한 여러행 데이터\n",
    "df[start:stop:step] 슬라이ㅣㅇ 구분으로 추출한 여러행 데이터 \n",
    "'''"
   ]
  },
  {
   "cell_type": "code",
   "execution_count": 121,
   "id": "0cde1578-7ed3-433f-8f2f-ee9c7d59fd96",
   "metadata": {},
   "outputs": [
    {
     "name": "stdout",
     "output_type": "stream",
     "text": [
      "                   Name        Born        Died  Age    Occupation\n",
      "0     Rosaline Franklin  1920-07-25  1958-04-16   37       Chemist\n",
      "1        William Gosset  1876-06-13  1937-10-16   61  Statistician\n",
      "2  Florence Nightingale  1820-05-12  1910-08-13   90         Nurse\n",
      "3           Marie Curie  1867-11-07  1934-07-04   66       Chemist\n"
     ]
    }
   ],
   "source": [
    "first_half=scientists[:4]\n",
    "second_half=scientists[4:]\n",
    "print(first_half)"
   ]
  },
  {
   "cell_type": "code",
   "execution_count": 123,
   "id": "b1e6d0af-9010-402f-9cdd-9575ec1eb1cf",
   "metadata": {},
   "outputs": [
    {
     "name": "stdout",
     "output_type": "stream",
     "text": [
      "            Name        Born        Died  Age          Occupation\n",
      "4  Rachel Carson  1907-05-27  1964-04-14   56           Biologist\n",
      "5      John Snow  1813-03-15  1858-06-16   45           Physician\n",
      "6    Alan Turing  1912-06-23  1954-06-07   41  Computer Scientist\n",
      "7   Johann Gauss  1777-04-30  1855-02-23   77       Mathematician\n"
     ]
    }
   ],
   "source": [
    "print(second_half)"
   ]
  },
  {
   "cell_type": "code",
   "execution_count": 125,
   "id": "782f64b9-fb47-4fb9-86bf-d1488a381d6b",
   "metadata": {},
   "outputs": [
    {
     "name": "stdout",
     "output_type": "stream",
     "text": [
      "                                       Name                  Born  \\\n",
      "0        Rosaline FranklinRosaline Franklin  1920-07-251920-07-25   \n",
      "1              William GossetWilliam Gosset  1876-06-131876-06-13   \n",
      "2  Florence NightingaleFlorence Nightingale  1820-05-121820-05-12   \n",
      "3                    Marie CurieMarie Curie  1867-11-071867-11-07   \n",
      "4                Rachel CarsonRachel Carson  1907-05-271907-05-27   \n",
      "5                        John SnowJohn Snow  1813-03-151813-03-15   \n",
      "6                    Alan TuringAlan Turing  1912-06-231912-06-23   \n",
      "7                  Johann GaussJohann Gauss  1777-04-301777-04-30   \n",
      "\n",
      "                   Died  Age                            Occupation  \n",
      "0  1958-04-161958-04-16   74                        ChemistChemist  \n",
      "1  1937-10-161937-10-16  122              StatisticianStatistician  \n",
      "2  1910-08-131910-08-13  180                            NurseNurse  \n",
      "3  1934-07-041934-07-04  132                        ChemistChemist  \n",
      "4  1964-04-141964-04-14  112                    BiologistBiologist  \n",
      "5  1858-06-161858-06-16   90                    PhysicianPhysician  \n",
      "6  1954-06-071954-06-07   82  Computer ScientistComputer Scientist  \n",
      "7  1855-02-231855-02-23  154            MathematicianMathematician  \n"
     ]
    }
   ],
   "source": [
    "print(scientists*2)"
   ]
  },
  {
   "cell_type": "code",
   "execution_count": 127,
   "id": "919ac067-7b16-47cc-b4b1-1010f78927e0",
   "metadata": {},
   "outputs": [
    {
     "data": {
      "text/html": [
       "<div>\n",
       "<style scoped>\n",
       "    .dataframe tbody tr th:only-of-type {\n",
       "        vertical-align: middle;\n",
       "    }\n",
       "\n",
       "    .dataframe tbody tr th {\n",
       "        vertical-align: top;\n",
       "    }\n",
       "\n",
       "    .dataframe thead th {\n",
       "        text-align: right;\n",
       "    }\n",
       "</style>\n",
       "<table border=\"1\" class=\"dataframe\">\n",
       "  <thead>\n",
       "    <tr style=\"text-align: right;\">\n",
       "      <th></th>\n",
       "      <th>0</th>\n",
       "      <th>1</th>\n",
       "      <th>2</th>\n",
       "    </tr>\n",
       "  </thead>\n",
       "  <tbody>\n",
       "    <tr>\n",
       "      <th>0</th>\n",
       "      <td>1</td>\n",
       "      <td>2</td>\n",
       "      <td>3</td>\n",
       "    </tr>\n",
       "    <tr>\n",
       "      <th>1</th>\n",
       "      <td>4</td>\n",
       "      <td>5</td>\n",
       "      <td>6</td>\n",
       "    </tr>\n",
       "    <tr>\n",
       "      <th>2</th>\n",
       "      <td>7</td>\n",
       "      <td>8</td>\n",
       "      <td>9</td>\n",
       "    </tr>\n",
       "  </tbody>\n",
       "</table>\n",
       "</div>"
      ],
      "text/plain": [
       "   0  1  2\n",
       "0  1  2  3\n",
       "1  4  5  6\n",
       "2  7  8  9"
      ]
     },
     "execution_count": 127,
     "metadata": {},
     "output_type": "execute_result"
    }
   ],
   "source": [
    "df1=df2=pd.DataFrame(data=[[1,2,3],[4,5,6],[7,8,9]])\n",
    "df1"
   ]
  },
  {
   "cell_type": "code",
   "execution_count": 129,
   "id": "865ab04a-fc1b-4768-8034-b733836eb01d",
   "metadata": {},
   "outputs": [
    {
     "data": {
      "text/html": [
       "<div>\n",
       "<style scoped>\n",
       "    .dataframe tbody tr th:only-of-type {\n",
       "        vertical-align: middle;\n",
       "    }\n",
       "\n",
       "    .dataframe tbody tr th {\n",
       "        vertical-align: top;\n",
       "    }\n",
       "\n",
       "    .dataframe thead th {\n",
       "        text-align: right;\n",
       "    }\n",
       "</style>\n",
       "<table border=\"1\" class=\"dataframe\">\n",
       "  <thead>\n",
       "    <tr style=\"text-align: right;\">\n",
       "      <th></th>\n",
       "      <th>0</th>\n",
       "      <th>1</th>\n",
       "      <th>2</th>\n",
       "    </tr>\n",
       "  </thead>\n",
       "  <tbody>\n",
       "    <tr>\n",
       "      <th>0</th>\n",
       "      <td>1</td>\n",
       "      <td>2</td>\n",
       "      <td>3</td>\n",
       "    </tr>\n",
       "    <tr>\n",
       "      <th>1</th>\n",
       "      <td>4</td>\n",
       "      <td>5</td>\n",
       "      <td>6</td>\n",
       "    </tr>\n",
       "    <tr>\n",
       "      <th>2</th>\n",
       "      <td>7</td>\n",
       "      <td>8</td>\n",
       "      <td>9</td>\n",
       "    </tr>\n",
       "  </tbody>\n",
       "</table>\n",
       "</div>"
      ],
      "text/plain": [
       "   0  1  2\n",
       "0  1  2  3\n",
       "1  4  5  6\n",
       "2  7  8  9"
      ]
     },
     "execution_count": 129,
     "metadata": {},
     "output_type": "execute_result"
    }
   ],
   "source": [
    "df2"
   ]
  },
  {
   "cell_type": "code",
   "execution_count": 131,
   "id": "0f148500-41e7-45ec-969d-1b1011efb6a2",
   "metadata": {},
   "outputs": [],
   "source": [
    "df_added=df1.add(df2)"
   ]
  },
  {
   "cell_type": "code",
   "execution_count": 133,
   "id": "00b25fd8-72c4-4c37-8b7c-d7be206a9388",
   "metadata": {},
   "outputs": [
    {
     "name": "stdout",
     "output_type": "stream",
     "text": [
      "    0   1   2\n",
      "0   2   4   6\n",
      "1   8  10  12\n",
      "2  14  16  18\n"
     ]
    }
   ],
   "source": [
    "print(df_added)"
   ]
  },
  {
   "cell_type": "code",
   "execution_count": 135,
   "id": "45ff5759-e03a-4408-9693-db5c06cf4d16",
   "metadata": {},
   "outputs": [
    {
     "name": "stdout",
     "output_type": "stream",
     "text": [
      "Name          object\n",
      "Born          object\n",
      "Died          object\n",
      "Age            int64\n",
      "Occupation    object\n",
      "dtype: object\n"
     ]
    }
   ],
   "source": [
    "print(scientists.dtypes)"
   ]
  },
  {
   "cell_type": "code",
   "execution_count": 137,
   "id": "e87ba7bc-4e3d-41c4-9f20-17ab6912a80d",
   "metadata": {},
   "outputs": [
    {
     "name": "stdout",
     "output_type": "stream",
     "text": [
      "0   1920-01-25 00:07:00\n",
      "1   1876-01-13 00:06:00\n",
      "2   1820-01-12 00:05:00\n",
      "3   1867-01-07 00:11:00\n",
      "4   1907-01-27 00:05:00\n",
      "5   1813-01-15 00:03:00\n",
      "6   1912-01-23 00:06:00\n",
      "7   1777-01-30 00:04:00\n",
      "Name: Born, dtype: datetime64[ns]\n"
     ]
    }
   ],
   "source": [
    "born_datetime=pd.to_datetime(scientists['Born'],format='%Y-%M-%d')\n",
    "print(born_datetime)"
   ]
  },
  {
   "cell_type": "code",
   "execution_count": 139,
   "id": "3b0c3568-5f7f-413d-8a32-babefff76607",
   "metadata": {},
   "outputs": [],
   "source": [
    "died_datatime=pd.to_datetime(scientists['Died'],format='%Y-%M-%d')"
   ]
  },
  {
   "cell_type": "code",
   "execution_count": 143,
   "id": "a558a7f4-f280-4eeb-b411-9da5b8b1a1d5",
   "metadata": {},
   "outputs": [
    {
     "name": "stdout",
     "output_type": "stream",
     "text": [
      "                   Name        Born        Died  Age    Occupation\n",
      "0     Rosaline Franklin  1920-07-25  1958-04-16   37       Chemist\n",
      "1        William Gosset  1876-06-13  1937-10-16   61  Statistician\n",
      "2  Florence Nightingale  1820-05-12  1910-08-13   90         Nurse\n",
      "3           Marie Curie  1867-11-07  1934-07-04   66       Chemist\n",
      "4         Rachel Carson  1907-05-27  1964-04-14   56     Biologist\n"
     ]
    }
   ],
   "source": [
    "print(scientists.head())"
   ]
  },
  {
   "cell_type": "code",
   "execution_count": 145,
   "id": "9ebb1685-d8f4-4300-a21e-a78b9e4445cd",
   "metadata": {},
   "outputs": [
    {
     "name": "stdout",
     "output_type": "stream",
     "text": [
      "(8, 5)\n"
     ]
    }
   ],
   "source": [
    "print(scientists.shape)"
   ]
  },
  {
   "cell_type": "code",
   "execution_count": 147,
   "id": "f044c077-f842-4d68-8976-295914f7c686",
   "metadata": {},
   "outputs": [
    {
     "name": "stdout",
     "output_type": "stream",
     "text": [
      "0    37\n",
      "1    61\n",
      "2    90\n",
      "3    66\n",
      "4    56\n",
      "5    45\n",
      "6    41\n",
      "7    77\n",
      "Name: Age, dtype: int64\n"
     ]
    }
   ],
   "source": [
    "print(scientists['Age'])"
   ]
  },
  {
   "cell_type": "code",
   "execution_count": 149,
   "id": "cf6b051f-b0b5-44fb-bca0-dab5df77f750",
   "metadata": {},
   "outputs": [
    {
     "name": "stdout",
     "output_type": "stream",
     "text": [
      "1    61\n",
      "5    45\n",
      "0    37\n",
      "7    77\n",
      "2    90\n",
      "4    56\n",
      "3    66\n",
      "6    41\n",
      "Name: Age, dtype: int64\n"
     ]
    }
   ],
   "source": [
    "print(scientists['Age'].sample(frac=1,random_state=42))"
   ]
  },
  {
   "cell_type": "code",
   "execution_count": 151,
   "id": "2ff5b273-ad7c-4604-b8a4-d44026aab4fe",
   "metadata": {},
   "outputs": [
    {
     "name": "stdout",
     "output_type": "stream",
     "text": [
      "1    61\n",
      "5    45\n",
      "0    37\n",
      "7    77\n",
      "2    90\n",
      "4    56\n",
      "3    66\n",
      "6    41\n",
      "Name: Age, dtype: int64\n"
     ]
    }
   ],
   "source": [
    "print(scientists['Age'].sample(frac=1,random_state=42))"
   ]
  },
  {
   "cell_type": "code",
   "execution_count": 153,
   "id": "7e8839c5-bcfa-4732-a3de-9903b6012db7",
   "metadata": {},
   "outputs": [
    {
     "name": "stdout",
     "output_type": "stream",
     "text": [
      "0    61\n",
      "1    45\n",
      "2    37\n",
      "3    77\n",
      "4    90\n",
      "5    56\n",
      "6    66\n",
      "7    41\n",
      "Name: Age, dtype: int64\n"
     ]
    }
   ],
   "source": [
    "scientists['Age']=scientists['Age'].sample(frac=1,random_state=42).values\n",
    "print(scientists['Age'])"
   ]
  },
  {
   "cell_type": "code",
   "execution_count": 155,
   "id": "6e0a6334-06c8-4907-b502-15f98f835045",
   "metadata": {},
   "outputs": [
    {
     "name": "stdout",
     "output_type": "stream",
     "text": [
      "Index(['Name', 'Born', 'Died', 'Age', 'Occupation'], dtype='object')\n"
     ]
    }
   ],
   "source": [
    "print(scientists.columns)"
   ]
  },
  {
   "cell_type": "code",
   "execution_count": 163,
   "id": "892780a9-7957-4df6-ae95-361da9ba9608",
   "metadata": {},
   "outputs": [],
   "source": [
    "scientists_dropped=scientists.drop(['Age'],axis=\"columns\")"
   ]
  },
  {
   "cell_type": "code",
   "execution_count": 165,
   "id": "afe71ba9-f362-46a1-b7b8-273e52f46926",
   "metadata": {},
   "outputs": [
    {
     "data": {
      "text/html": [
       "<div>\n",
       "<style scoped>\n",
       "    .dataframe tbody tr th:only-of-type {\n",
       "        vertical-align: middle;\n",
       "    }\n",
       "\n",
       "    .dataframe tbody tr th {\n",
       "        vertical-align: top;\n",
       "    }\n",
       "\n",
       "    .dataframe thead th {\n",
       "        text-align: right;\n",
       "    }\n",
       "</style>\n",
       "<table border=\"1\" class=\"dataframe\">\n",
       "  <thead>\n",
       "    <tr style=\"text-align: right;\">\n",
       "      <th></th>\n",
       "      <th>Name</th>\n",
       "      <th>Born</th>\n",
       "      <th>Died</th>\n",
       "      <th>Occupation</th>\n",
       "    </tr>\n",
       "  </thead>\n",
       "  <tbody>\n",
       "    <tr>\n",
       "      <th>0</th>\n",
       "      <td>Rosaline Franklin</td>\n",
       "      <td>1920-07-25</td>\n",
       "      <td>1958-04-16</td>\n",
       "      <td>Chemist</td>\n",
       "    </tr>\n",
       "    <tr>\n",
       "      <th>1</th>\n",
       "      <td>William Gosset</td>\n",
       "      <td>1876-06-13</td>\n",
       "      <td>1937-10-16</td>\n",
       "      <td>Statistician</td>\n",
       "    </tr>\n",
       "    <tr>\n",
       "      <th>2</th>\n",
       "      <td>Florence Nightingale</td>\n",
       "      <td>1820-05-12</td>\n",
       "      <td>1910-08-13</td>\n",
       "      <td>Nurse</td>\n",
       "    </tr>\n",
       "    <tr>\n",
       "      <th>3</th>\n",
       "      <td>Marie Curie</td>\n",
       "      <td>1867-11-07</td>\n",
       "      <td>1934-07-04</td>\n",
       "      <td>Chemist</td>\n",
       "    </tr>\n",
       "    <tr>\n",
       "      <th>4</th>\n",
       "      <td>Rachel Carson</td>\n",
       "      <td>1907-05-27</td>\n",
       "      <td>1964-04-14</td>\n",
       "      <td>Biologist</td>\n",
       "    </tr>\n",
       "    <tr>\n",
       "      <th>5</th>\n",
       "      <td>John Snow</td>\n",
       "      <td>1813-03-15</td>\n",
       "      <td>1858-06-16</td>\n",
       "      <td>Physician</td>\n",
       "    </tr>\n",
       "    <tr>\n",
       "      <th>6</th>\n",
       "      <td>Alan Turing</td>\n",
       "      <td>1912-06-23</td>\n",
       "      <td>1954-06-07</td>\n",
       "      <td>Computer Scientist</td>\n",
       "    </tr>\n",
       "    <tr>\n",
       "      <th>7</th>\n",
       "      <td>Johann Gauss</td>\n",
       "      <td>1777-04-30</td>\n",
       "      <td>1855-02-23</td>\n",
       "      <td>Mathematician</td>\n",
       "    </tr>\n",
       "  </tbody>\n",
       "</table>\n",
       "</div>"
      ],
      "text/plain": [
       "                   Name        Born        Died          Occupation\n",
       "0     Rosaline Franklin  1920-07-25  1958-04-16             Chemist\n",
       "1        William Gosset  1876-06-13  1937-10-16        Statistician\n",
       "2  Florence Nightingale  1820-05-12  1910-08-13               Nurse\n",
       "3           Marie Curie  1867-11-07  1934-07-04             Chemist\n",
       "4         Rachel Carson  1907-05-27  1964-04-14           Biologist\n",
       "5             John Snow  1813-03-15  1858-06-16           Physician\n",
       "6           Alan Turing  1912-06-23  1954-06-07  Computer Scientist\n",
       "7          Johann Gauss  1777-04-30  1855-02-23       Mathematician"
      ]
     },
     "execution_count": 165,
     "metadata": {},
     "output_type": "execute_result"
    }
   ],
   "source": [
    "scientists_dropped"
   ]
  },
  {
   "cell_type": "code",
   "execution_count": 167,
   "id": "e85c028d-6a84-4908-b0ef-92b140c49047",
   "metadata": {},
   "outputs": [
    {
     "name": "stdout",
     "output_type": "stream",
     "text": [
      "0       Rosaline Franklin\n",
      "1          William Gosset\n",
      "2    Florence Nightingale\n",
      "3             Marie Curie\n",
      "4           Rachel Carson\n",
      "5               John Snow\n",
      "6             Alan Turing\n",
      "7            Johann Gauss\n",
      "Name: Name, dtype: object\n"
     ]
    }
   ],
   "source": [
    "names=scientists['Name']\n",
    "print(names)"
   ]
  },
  {
   "cell_type": "code",
   "execution_count": 173,
   "id": "2a5b295c-c8f0-44ad-90a2-db173aa7537e",
   "metadata": {},
   "outputs": [],
   "source": [
    "names.to_pickle('scientists_names_series.pickle')"
   ]
  },
  {
   "cell_type": "code",
   "execution_count": 177,
   "id": "c6a0955a-c778-40fe-9d1e-bc081961074a",
   "metadata": {},
   "outputs": [],
   "source": [
    "scientists.to_pickle('scientists_df.pickle')"
   ]
  },
  {
   "cell_type": "code",
   "execution_count": 181,
   "id": "c1f3ee43-a2ad-4f9c-bc28-a1b8299ad240",
   "metadata": {},
   "outputs": [
    {
     "data": {
      "text/plain": [
       "0       Rosaline Franklin\n",
       "1          William Gosset\n",
       "2    Florence Nightingale\n",
       "3             Marie Curie\n",
       "4           Rachel Carson\n",
       "5               John Snow\n",
       "6             Alan Turing\n",
       "7            Johann Gauss\n",
       "Name: Name, dtype: object"
      ]
     },
     "execution_count": 181,
     "metadata": {},
     "output_type": "execute_result"
    }
   ],
   "source": [
    "series_pickle=pd.read_pickle('scientists_names_series.pickle')\n",
    "series_pickle"
   ]
  },
  {
   "cell_type": "code",
   "execution_count": 183,
   "id": "afc34627-69e0-4777-9afa-0c118b958e3f",
   "metadata": {},
   "outputs": [],
   "source": [
    "data_frame_pickle=pd.read_pickle('scientists_df.pickle')"
   ]
  },
  {
   "cell_type": "code",
   "execution_count": 185,
   "id": "dae7a1d3-b94f-40f6-b774-c7be00c07a05",
   "metadata": {},
   "outputs": [
    {
     "data": {
      "text/html": [
       "<div>\n",
       "<style scoped>\n",
       "    .dataframe tbody tr th:only-of-type {\n",
       "        vertical-align: middle;\n",
       "    }\n",
       "\n",
       "    .dataframe tbody tr th {\n",
       "        vertical-align: top;\n",
       "    }\n",
       "\n",
       "    .dataframe thead th {\n",
       "        text-align: right;\n",
       "    }\n",
       "</style>\n",
       "<table border=\"1\" class=\"dataframe\">\n",
       "  <thead>\n",
       "    <tr style=\"text-align: right;\">\n",
       "      <th></th>\n",
       "      <th>Name</th>\n",
       "      <th>Born</th>\n",
       "      <th>Died</th>\n",
       "      <th>Age</th>\n",
       "      <th>Occupation</th>\n",
       "    </tr>\n",
       "  </thead>\n",
       "  <tbody>\n",
       "    <tr>\n",
       "      <th>0</th>\n",
       "      <td>Rosaline Franklin</td>\n",
       "      <td>1920-07-25</td>\n",
       "      <td>1958-04-16</td>\n",
       "      <td>61</td>\n",
       "      <td>Chemist</td>\n",
       "    </tr>\n",
       "    <tr>\n",
       "      <th>1</th>\n",
       "      <td>William Gosset</td>\n",
       "      <td>1876-06-13</td>\n",
       "      <td>1937-10-16</td>\n",
       "      <td>45</td>\n",
       "      <td>Statistician</td>\n",
       "    </tr>\n",
       "    <tr>\n",
       "      <th>2</th>\n",
       "      <td>Florence Nightingale</td>\n",
       "      <td>1820-05-12</td>\n",
       "      <td>1910-08-13</td>\n",
       "      <td>37</td>\n",
       "      <td>Nurse</td>\n",
       "    </tr>\n",
       "    <tr>\n",
       "      <th>3</th>\n",
       "      <td>Marie Curie</td>\n",
       "      <td>1867-11-07</td>\n",
       "      <td>1934-07-04</td>\n",
       "      <td>77</td>\n",
       "      <td>Chemist</td>\n",
       "    </tr>\n",
       "    <tr>\n",
       "      <th>4</th>\n",
       "      <td>Rachel Carson</td>\n",
       "      <td>1907-05-27</td>\n",
       "      <td>1964-04-14</td>\n",
       "      <td>90</td>\n",
       "      <td>Biologist</td>\n",
       "    </tr>\n",
       "    <tr>\n",
       "      <th>5</th>\n",
       "      <td>John Snow</td>\n",
       "      <td>1813-03-15</td>\n",
       "      <td>1858-06-16</td>\n",
       "      <td>56</td>\n",
       "      <td>Physician</td>\n",
       "    </tr>\n",
       "    <tr>\n",
       "      <th>6</th>\n",
       "      <td>Alan Turing</td>\n",
       "      <td>1912-06-23</td>\n",
       "      <td>1954-06-07</td>\n",
       "      <td>66</td>\n",
       "      <td>Computer Scientist</td>\n",
       "    </tr>\n",
       "    <tr>\n",
       "      <th>7</th>\n",
       "      <td>Johann Gauss</td>\n",
       "      <td>1777-04-30</td>\n",
       "      <td>1855-02-23</td>\n",
       "      <td>41</td>\n",
       "      <td>Mathematician</td>\n",
       "    </tr>\n",
       "  </tbody>\n",
       "</table>\n",
       "</div>"
      ],
      "text/plain": [
       "                   Name        Born        Died  Age          Occupation\n",
       "0     Rosaline Franklin  1920-07-25  1958-04-16   61             Chemist\n",
       "1        William Gosset  1876-06-13  1937-10-16   45        Statistician\n",
       "2  Florence Nightingale  1820-05-12  1910-08-13   37               Nurse\n",
       "3           Marie Curie  1867-11-07  1934-07-04   77             Chemist\n",
       "4         Rachel Carson  1907-05-27  1964-04-14   90           Biologist\n",
       "5             John Snow  1813-03-15  1858-06-16   56           Physician\n",
       "6           Alan Turing  1912-06-23  1954-06-07   66  Computer Scientist\n",
       "7          Johann Gauss  1777-04-30  1855-02-23   41       Mathematician"
      ]
     },
     "execution_count": 185,
     "metadata": {},
     "output_type": "execute_result"
    }
   ],
   "source": [
    "data_frame_pickle"
   ]
  },
  {
   "cell_type": "code",
   "execution_count": 191,
   "id": "3e31baa9-ad5c-471f-a394-16daacabaec8",
   "metadata": {},
   "outputs": [],
   "source": [
    "scientists.to_csv('scientists_df_no_index.csv',index=False)"
   ]
  },
  {
   "cell_type": "code",
   "execution_count": 193,
   "id": "50c1558f-5b89-46eb-817e-44a54556a255",
   "metadata": {},
   "outputs": [
    {
     "data": {
      "text/html": [
       "<div>\n",
       "<style scoped>\n",
       "    .dataframe tbody tr th:only-of-type {\n",
       "        vertical-align: middle;\n",
       "    }\n",
       "\n",
       "    .dataframe tbody tr th {\n",
       "        vertical-align: top;\n",
       "    }\n",
       "\n",
       "    .dataframe thead th {\n",
       "        text-align: right;\n",
       "    }\n",
       "</style>\n",
       "<table border=\"1\" class=\"dataframe\">\n",
       "  <thead>\n",
       "    <tr style=\"text-align: right;\">\n",
       "      <th></th>\n",
       "      <th>Name</th>\n",
       "      <th>Born</th>\n",
       "      <th>Died</th>\n",
       "      <th>Age</th>\n",
       "      <th>Occupation</th>\n",
       "    </tr>\n",
       "  </thead>\n",
       "  <tbody>\n",
       "    <tr>\n",
       "      <th>0</th>\n",
       "      <td>Rosaline Franklin</td>\n",
       "      <td>1920-07-25</td>\n",
       "      <td>1958-04-16</td>\n",
       "      <td>61</td>\n",
       "      <td>Chemist</td>\n",
       "    </tr>\n",
       "    <tr>\n",
       "      <th>1</th>\n",
       "      <td>William Gosset</td>\n",
       "      <td>1876-06-13</td>\n",
       "      <td>1937-10-16</td>\n",
       "      <td>45</td>\n",
       "      <td>Statistician</td>\n",
       "    </tr>\n",
       "    <tr>\n",
       "      <th>2</th>\n",
       "      <td>Florence Nightingale</td>\n",
       "      <td>1820-05-12</td>\n",
       "      <td>1910-08-13</td>\n",
       "      <td>37</td>\n",
       "      <td>Nurse</td>\n",
       "    </tr>\n",
       "    <tr>\n",
       "      <th>3</th>\n",
       "      <td>Marie Curie</td>\n",
       "      <td>1867-11-07</td>\n",
       "      <td>1934-07-04</td>\n",
       "      <td>77</td>\n",
       "      <td>Chemist</td>\n",
       "    </tr>\n",
       "    <tr>\n",
       "      <th>4</th>\n",
       "      <td>Rachel Carson</td>\n",
       "      <td>1907-05-27</td>\n",
       "      <td>1964-04-14</td>\n",
       "      <td>90</td>\n",
       "      <td>Biologist</td>\n",
       "    </tr>\n",
       "    <tr>\n",
       "      <th>5</th>\n",
       "      <td>John Snow</td>\n",
       "      <td>1813-03-15</td>\n",
       "      <td>1858-06-16</td>\n",
       "      <td>56</td>\n",
       "      <td>Physician</td>\n",
       "    </tr>\n",
       "    <tr>\n",
       "      <th>6</th>\n",
       "      <td>Alan Turing</td>\n",
       "      <td>1912-06-23</td>\n",
       "      <td>1954-06-07</td>\n",
       "      <td>66</td>\n",
       "      <td>Computer Scientist</td>\n",
       "    </tr>\n",
       "    <tr>\n",
       "      <th>7</th>\n",
       "      <td>Johann Gauss</td>\n",
       "      <td>1777-04-30</td>\n",
       "      <td>1855-02-23</td>\n",
       "      <td>41</td>\n",
       "      <td>Mathematician</td>\n",
       "    </tr>\n",
       "  </tbody>\n",
       "</table>\n",
       "</div>"
      ],
      "text/plain": [
       "                   Name        Born        Died  Age          Occupation\n",
       "0     Rosaline Franklin  1920-07-25  1958-04-16   61             Chemist\n",
       "1        William Gosset  1876-06-13  1937-10-16   45        Statistician\n",
       "2  Florence Nightingale  1820-05-12  1910-08-13   37               Nurse\n",
       "3           Marie Curie  1867-11-07  1934-07-04   77             Chemist\n",
       "4         Rachel Carson  1907-05-27  1964-04-14   90           Biologist\n",
       "5             John Snow  1813-03-15  1858-06-16   56           Physician\n",
       "6           Alan Turing  1912-06-23  1954-06-07   66  Computer Scientist\n",
       "7          Johann Gauss  1777-04-30  1855-02-23   41       Mathematician"
      ]
     },
     "execution_count": 193,
     "metadata": {},
     "output_type": "execute_result"
    }
   ],
   "source": [
    "df=pd.read_csv('scientists_df_no_index.csv')\n",
    "df"
   ]
  },
  {
   "cell_type": "code",
   "execution_count": 197,
   "id": "774c5985-3785-46b4-b8a0-6926432bc4ff",
   "metadata": {},
   "outputs": [
    {
     "name": "stdout",
     "output_type": "stream",
     "text": [
      "Note: you may need to restart the kernel to use updated packages.\n"
     ]
    },
    {
     "name": "stderr",
     "output_type": "stream",
     "text": [
      "ERROR: Could not find a version that satisfies the requirement openpxl (from versions: none)\n",
      "ERROR: No matching distribution found for openpxl\n"
     ]
    }
   ],
   "source": [
    "pip install openpxl"
   ]
  },
  {
   "cell_type": "code",
   "execution_count": 199,
   "id": "0f28058d-d371-4cb6-8808-c9881188a9a4",
   "metadata": {},
   "outputs": [
    {
     "name": "stdout",
     "output_type": "stream",
     "text": [
      "0       Rosaline Franklin\n",
      "1          William Gosset\n",
      "2    Florence Nightingale\n",
      "3             Marie Curie\n",
      "4           Rachel Carson\n",
      "5               John Snow\n",
      "6             Alan Turing\n",
      "7            Johann Gauss\n",
      "Name: Name, dtype: object\n"
     ]
    }
   ],
   "source": [
    "names=scientists['Name']\n",
    "print(names)"
   ]
  },
  {
   "cell_type": "code",
   "execution_count": 201,
   "id": "23d43bc8-6c76-4dde-bd47-e50a89f8bf82",
   "metadata": {},
   "outputs": [],
   "source": [
    "names_df=names.to_frame()"
   ]
  },
  {
   "cell_type": "code",
   "execution_count": 205,
   "id": "995b5f01-a88a-4393-8905-cba995bee89b",
   "metadata": {},
   "outputs": [],
   "source": [
    "names_df.to_excel('scientists_names_series_df.xls',engine='openpyxl')"
   ]
  },
  {
   "cell_type": "code",
   "execution_count": 209,
   "id": "dd6617a4-65f7-4735-8909-4e8487fd89bf",
   "metadata": {},
   "outputs": [],
   "source": [
    "scientists.to_excel(\"scientists_df.xlsx\",sheet_name=\"scientists\",index=False)"
   ]
  },
  {
   "cell_type": "code",
   "execution_count": null,
   "id": "27dfa810-b516-4eb7-bf46-ea2de6a4dfa6",
   "metadata": {},
   "outputs": [],
   "source": []
  }
 ],
 "metadata": {
  "kernelspec": {
   "display_name": "Python 3 (ipykernel)",
   "language": "python",
   "name": "python3"
  },
  "language_info": {
   "codemirror_mode": {
    "name": "ipython",
    "version": 3
   },
   "file_extension": ".py",
   "mimetype": "text/x-python",
   "name": "python",
   "nbconvert_exporter": "python",
   "pygments_lexer": "ipython3",
   "version": "3.12.4"
  }
 },
 "nbformat": 4,
 "nbformat_minor": 5
}
